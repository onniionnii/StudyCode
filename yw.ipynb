{
  "nbformat": 4,
  "nbformat_minor": 0,
  "metadata": {
    "colab": {
      "name": "Untitled0.ipynb",
      "provenance": [],
      "authorship_tag": "ABX9TyP56hvKRuyf9/W7dNxORfCc",
      "include_colab_link": true
    },
    "kernelspec": {
      "name": "python3",
      "display_name": "Python 3"
    },
    "language_info": {
      "name": "python"
    },
    "accelerator": "GPU"
  },
  "cells": [
    {
      "cell_type": "markdown",
      "metadata": {
        "id": "view-in-github",
        "colab_type": "text"
      },
      "source": [
        "<a href=\"https://colab.research.google.com/github/onniionnii/StudyCode/blob/main/yw.ipynb\" target=\"_parent\"><img src=\"https://colab.research.google.com/assets/colab-badge.svg\" alt=\"Open In Colab\"/></a>"
      ]
    },
    {
      "cell_type": "code",
      "execution_count": 2,
      "metadata": {
        "colab": {
          "base_uri": "https://localhost:8080/"
        },
        "id": "WUtnThdDZkU8",
        "outputId": "d77ee278-751e-46d4-94fc-35bb3eeb7f8e"
      },
      "outputs": [
        {
          "output_type": "stream",
          "name": "stdout",
          "text": [
            "hi\n"
          ]
        }
      ],
      "source": [
        "print(\"hi\")"
      ]
    },
    {
      "cell_type": "code",
      "source": [
        "company='삼성전자'\n",
        "print(company)\n",
        "\n",
        "sid='100'\n",
        "sec_url=\"https://news.naver.com/main/list.nhn?mode=LSD&amp'mid=sec\"+\"&amp;sid1=\"+ sid\n",
        "print(\"section url : \", sec_url)"
      ],
      "metadata": {
        "colab": {
          "base_uri": "https://localhost:8080/"
        },
        "id": "rna-daTwZn57",
        "outputId": "a60560ab-dc90-4816-f514-8f877c29258d"
      },
      "execution_count": 4,
      "outputs": [
        {
          "output_type": "stream",
          "name": "stdout",
          "text": [
            "삼성전자\n",
            "section url :  https://news.naver.com/main/list.nhn?mode=LSD&amp'mid=sec&amp;sid1=100\n"
          ]
        }
      ]
    },
    {
      "cell_type": "code",
      "source": [
        "pmhigh_foods= \"콩나물국밥,고등어,굴,쌀국수,마라탕\"\n",
        "pmhigh_foods= pmhigh_foods.split(',')\n",
        "print(\"pmhigh_foods : \", pmhigh_foods)\n",
        "\n",
        "sid_list = ['100,', '101', '102']\n",
        "print(\"sid_list : \", sid_list)\n",
        "print(\"type(sid_list) : \", type(sid_list))\n",
        "print(\"sid_list[0] : \", sid_list[0])\n",
        "print(\"type(sid_list[0] : \", type(sid_list[0]))\n",
        "print(\"sid_list[1] : \", sid_list[1])\n",
        "print(\"sid_list[2] : \", sid_list[2])"
      ],
      "metadata": {
        "colab": {
          "base_uri": "https://localhost:8080/"
        },
        "id": "LLGGK6h_eO6S",
        "outputId": "e34106b8-8ef7-4b8d-c8c6-94ffc0a1258b"
      },
      "execution_count": 5,
      "outputs": [
        {
          "output_type": "stream",
          "name": "stdout",
          "text": [
            "pmhigh_foods :  ['콩나물국밥', '고등어', '굴', '쌀국수', '마라탕']\n",
            "sid_list :  ['100,', '101', '102']\n",
            "type(sid_list) :  <class 'list'>\n",
            "sid_list[0] :  100,\n",
            "type(sid_list[0] :  <class 'str'>\n",
            "sid_list[1] :  101\n",
            "sid_list[2] :  102\n"
          ]
        }
      ]
    },
    {
      "cell_type": "code",
      "source": [
        "data = {\n",
        "    \"query\" : \"펭수\"\n",
        "}\n",
        "print(\"=============\")\n",
        "print(\"data : \", data)\n",
        "print(\"type(data) : \", type(data))\n",
        "print(\"data['query'] : \", data['query'])\n",
        "print(\"data.get('query') \", data.get('query'))\n",
        "\n",
        "\n"
      ],
      "metadata": {
        "colab": {
          "base_uri": "https://localhost:8080/"
        },
        "id": "_DmOnRUdfxjk",
        "outputId": "6d4a43c3-3589-49a8-85bd-4950f5439f11"
      },
      "execution_count": 6,
      "outputs": [
        {
          "output_type": "stream",
          "name": "stdout",
          "text": [
            "\n"
          ]
        }
      ]
    },
    {
      "cell_type": "code",
      "source": [
        ""
      ],
      "metadata": {
        "id": "nxo4YG26gljg"
      },
      "execution_count": null,
      "outputs": []
    }
  ]
}